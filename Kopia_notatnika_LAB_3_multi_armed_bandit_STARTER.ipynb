{
  "nbformat": 4,
  "nbformat_minor": 0,
  "metadata": {
    "colab": {
      "name": "Kopia notatnika LAB_3_multi_armed_bandit_STARTER.ipynb",
      "provenance": [],
      "collapsed_sections": [],
      "include_colab_link": true
    },
    "kernelspec": {
      "name": "python3",
      "display_name": "Python 3"
    }
  },
  "cells": [
    {
      "cell_type": "markdown",
      "metadata": {
        "id": "view-in-github",
        "colab_type": "text"
      },
      "source": [
        "<a href=\"https://colab.research.google.com/github/porkens/myTestRepo/blob/main/Kopia_notatnika_LAB_3_multi_armed_bandit_STARTER.ipynb\" target=\"_parent\"><img src=\"https://colab.research.google.com/assets/colab-badge.svg\" alt=\"Open In Colab\"/></a>"
      ]
    },
    {
      "cell_type": "code",
      "metadata": {
        "id": "ABngBrP7TxHY"
      },
      "source": [
        "import matplotlib.pyplot as plt\n",
        "import numpy as np"
      ],
      "execution_count": null,
      "outputs": []
    },
    {
      "cell_type": "code",
      "metadata": {
        "id": "0gyqnGOfPBgc"
      },
      "source": [
        "NUM_TRIALS = 10000\n",
        "BANDIT_PROBABILITIES = [0.2, 0.5, 0,75]\n",
        "EPSILON = 0.1"
      ],
      "execution_count": null,
      "outputs": []
    },
    {
      "cell_type": "code",
      "metadata": {
        "id": "ap0cPiXHPBni"
      },
      "source": [
        "class Bandit:\n",
        "  def __init__(self, q):\n",
        "    self.q = q\n",
        "    self.q_estimate = 5.\n",
        "    self.N = 0.\n",
        "\n",
        "  def pull(self):\n",
        "    return np.random.random() < self.q\n",
        "\n",
        "  def update(self, r):\n",
        "    self.N += 1.\n",
        "    self.q_estimate = ((self.N - 1)* self.q_estimate + r) / self.N"
      ],
      "execution_count": null,
      "outputs": []
    },
    {
      "cell_type": "code",
      "metadata": {
        "colab": {
          "base_uri": "https://localhost:8080/",
          "height": 398
        },
        "id": "mQjrmukHPBql",
        "outputId": "10023291-d121-49b8-d679-d7cdc5fa047d"
      },
      "source": [
        "def experiment_greedy():\n",
        "  bandits = [Bandit(q) for q in BANDIT_PROBABILITIES]\n",
        "  rewards = np.zeros(NUM_TRIALS)\n",
        "\n",
        "  for i in range(NUM_TRIALS):\n",
        "    j = np.argmax([b.q_estimate for b in bandits])\n",
        "\n",
        "    r = bandits[j].pull()\n",
        "\n",
        "    rewards[i] = r\n",
        "\n",
        "    bandits[j].update(r)\n",
        "\n",
        "  for b in bandits:\n",
        "    print(\"mean estimate: \", b.q_estimate)\n",
        "\n",
        "\n",
        "  print(\"total reward earned: \", rewards.sum())\n",
        "  print(\"overall win rate: \", rewards.sum() / NUM_TRIALS)\n",
        "  print(\"num times selected each bandit: \", [b.N for b in bandits])\n",
        "\n",
        "  cumulative_rewards = np.cumsum(rewards)\n",
        "  win_rates = cumulative_rewards / (np.arange(NUM_TRIALS) + 1)\n",
        "  plt.ylim([0,1])\n",
        "  plt.plot(win_rates)\n",
        "  plt.plot(np.ones(NUM_TRIALS)*np.max(BANDIT_PROBABILITIES))\n",
        "  plt.show()\n",
        "\n",
        "\n",
        "if __name__ == \"__main__\": \n",
        "  experiment_greedy()"
      ],
      "execution_count": null,
      "outputs": [
        {
          "output_type": "stream",
          "text": [
            "mean estimate:  0.20269999999999985\n",
            "mean estimate:  0.0\n",
            "mean estimate:  0.0\n",
            "mean estimate:  0.0\n",
            "total reward earned:  2027.0\n",
            "overall win rate:  0.2027\n",
            "num times selected each bandit:  [10000.0, 0.0, 0.0, 0.0]\n"
          ],
          "name": "stdout"
        },
        {
          "output_type": "display_data",
          "data": {
            "image/png": "[encoded data removed]",
            "text/plain": [
              "<Figure size 432x288 with 1 Axes>"
            ]
          },
          "metadata": {
            "tags": [],
            "needs_background": "light"
          }
        }
      ]
    },
    {
      "cell_type": "code",
      "metadata": {
        "colab": {
          "base_uri": "https://localhost:8080/",
          "height": 471
        },
        "id": "f93o15Q0PB30",
        "outputId": "5ad16466-6ce6-4727-96bf-e6ff7897118c"
      },
      "source": [
        "def experiment_epsilon():\n",
        "\n",
        "  bandits = [Bandit(q) for q in BANDIT_PROBABILITIES]\n",
        "\n",
        "  rewards = np.zeros(NUM_TRIALS)\n",
        "\n",
        "  num_times_explored = 0\n",
        "\n",
        "  num_times_exploited = 0\n",
        "\n",
        "  num_optimal = 0\n",
        "\n",
        "  optimal_bandit = np.argmax([b.q for b in bandits])\n",
        "\n",
        "  print(\"optimal bandit:\", optimal_bandit)\n",
        "\n",
        "\n",
        "\n",
        "  for i in range(NUM_TRIALS):\n",
        "\n",
        "    if np.random.random() < EPSILON:\n",
        "\n",
        "      num_times_explored += 1\n",
        "\n",
        "      j = np.random.randint(len(bandits))\n",
        "\n",
        "\n",
        "\n",
        "    else:\n",
        "\n",
        "      num_times_exploited += 1\n",
        "\n",
        "      j = np.argmax([b.q_estimate for b in bandits])\n",
        "\n",
        "\n",
        "\n",
        "    if j == optimal_bandit:\n",
        "\n",
        "      num_optimal += 1\n",
        "\n",
        "\n",
        "\n",
        "      r = bandits[j].pull()\n",
        "\n",
        "\n",
        "\n",
        "      rewards[i] = r\n",
        "\n",
        "\n",
        "\n",
        "      bandits[j].update(r)\n",
        "\n",
        "\n",
        "\n",
        "\n",
        "  for b in bandits:\n",
        "\n",
        "    print(\"mean estimate:\", b.q_estimate)\n",
        "\n",
        "\n",
        "\n",
        "  print(\"total reward earned:\", rewards.sum())\n",
        "\n",
        "  print(\"overall win rate:\", rewards.sum() / NUM_TRIALS)\n",
        "\n",
        "  print(\"num times selected each bandit:\", [b.N for b in bandits])\n",
        "\n",
        "  print(\"num times selected optimal bandit:\", num_optimal)\n",
        "\n",
        "  print(\"num times explored:\", num_times_explored)\n",
        "\n",
        "  print(\"num times exploited\", num_times_exploited)\n",
        "\n",
        "\n",
        "\n",
        "  cumulative_rewards = np.cumsum(rewards)\n",
        "\n",
        "  win_rates = cumulative_rewards / (np.arange(NUM_TRIALS) + 1)\n",
        "\n",
        "  plt.ylim([0, 1])\n",
        "\n",
        "  plt.plot(win_rates)\n",
        "\n",
        "  plt.plot(np.ones(NUM_TRIALS)*np.max(BANDIT_PROBABILITIES))\n",
        "\n",
        "  plt.show()\n",
        "\n",
        "\n",
        "\n",
        "if __name__ == \"__main__\":\n",
        "\n",
        "  experiment_epsilon()"
      ],
      "execution_count": null,
      "outputs": [
        {
          "output_type": "stream",
          "text": [
            "optimal bandit: 3\n",
            "mean estimate: 5.0\n",
            "mean estimate: 5.0\n",
            "mean estimate: 5.0\n",
            "mean estimate: 1.0\n",
            "total reward earned: 263.0\n",
            "overall win rate: 0.0263\n",
            "num times selected each bandit: [0.0, 0.0, 0.0, 263.0]\n",
            "num times selected optimal bandit: 263\n",
            "num times explored: 1051\n",
            "num times exploited 8949\n"
          ],
          "name": "stdout"
        },
        {
          "output_type": "display_data",
          "data": {
            "image/png": "[encoded data removed]",
            "text/plain": [
              "<Figure size 432x288 with 1 Axes>"
            ]
          },
          "metadata": {
            "tags": [],
            "needs_background": "light"
          }
        }
      ]
    },
    {
      "cell_type": "code",
      "metadata": {
        "colab": {
          "base_uri": "https://localhost:8080/",
          "height": 398
        },
        "id": "oNfIzORUPB6o",
        "outputId": "6c114d65-4fd5-47b1-8521-231e956e8f0c"
      },
      "source": [
        "def experiment_optimistic():\n",
        "  bandits = [Bandit(q) for q in BANDIT_PROBABILITIES]\n",
        "  rewards = np.zeros(NUM_TRIALS)\n",
        "\n",
        "  for i in range(NUM_TRIALS):\n",
        "    j = np.argmax([b.q_estimate for b in bandits])\n",
        "\n",
        "    r = bandits[j].pull()\n",
        "\n",
        "    rewards[i] = r\n",
        "\n",
        "    bandits[j].update(r)\n",
        "\n",
        "  for b in bandits:\n",
        "    print(\"mean estimate: \", b.q_estimate)\n",
        "\n",
        "\n",
        "  print(\"total reward earned: \", rewards.sum())\n",
        "  print(\"overall win rate: \", rewards.sum() / NUM_TRIALS)\n",
        "  print(\"num times selected each bandit: \", [b.N for b in bandits])\n",
        "\n",
        "  cumulative_rewards = np.cumsum(rewards)\n",
        "  win_rates = cumulative_rewards / (np.arange(NUM_TRIALS) + 1)\n",
        "  plt.ylim([0,1])\n",
        "  plt.plot(win_rates)\n",
        "  plt.plot(np.ones(NUM_TRIALS)*np.max(BANDIT_PROBABILITIES))\n",
        "  plt.show()\n",
        "\n",
        "\n",
        "if __name__ == \"__main__\": \n",
        "  experiment_greedy()"
      ],
      "execution_count": null,
      "outputs": [
        {
          "output_type": "stream",
          "text": [
            "mean estimate:  0.5\n",
            "mean estimate:  0.0\n",
            "mean estimate:  0.0\n",
            "mean estimate:  1.0\n",
            "total reward earned:  9997.0\n",
            "overall win rate:  0.9997\n",
            "num times selected each bandit:  [2.0, 1.0, 1.0, 9996.0]\n"
          ],
          "name": "stdout"
        },
        {
          "output_type": "display_data",
          "data": {
            "image/png": "[encoded data removed]",
            "text/plain": [
              "<Figure size 432x288 with 1 Axes>"
            ]
          },
          "metadata": {
            "tags": [],
            "needs_background": "light"
          }
        }
      ]
    },
    {
      "cell_type": "code",
      "metadata": {
        "id": "iCMERrvnPB80"
      },
      "source": [
        ""
      ],
      "execution_count": null,
      "outputs": []
    },
    {
      "cell_type": "code",
      "metadata": {
        "id": "I905QBobPB_m"
      },
      "source": [
        ""
      ],
      "execution_count": null,
      "outputs": []
    },
    {
      "cell_type": "code",
      "metadata": {
        "id": "T4ZvuuvEPCCL"
      },
      "source": [
        ""
      ],
      "execution_count": null,
      "outputs": []
    },
    {
      "cell_type": "code",
      "metadata": {
        "id": "E3PEmA8DPCFG"
      },
      "source": [
        ""
      ],
      "execution_count": null,
      "outputs": []
    },
    {
      "cell_type": "code",
      "metadata": {
        "id": "F4vwQuLPPCHd"
      },
      "source": [
        ""
      ],
      "execution_count": null,
      "outputs": []
    },
    {
      "cell_type": "code",
      "metadata": {
        "id": "dOBoszs2PCJv"
      },
      "source": [
        ""
      ],
      "execution_count": null,
      "outputs": []
    },
    {
      "cell_type": "code",
      "metadata": {
        "id": "_oikzErSPCMX"
      },
      "source": [
        ""
      ],
      "execution_count": null,
      "outputs": []
    },
    {
      "cell_type": "code",
      "metadata": {
        "id": "TzSGv7LEPCO_"
      },
      "source": [
        ""
      ],
      "execution_count": null,
      "outputs": []
    },
    {
      "cell_type": "code",
      "metadata": {
        "id": "o2cP5WxQPCRm"
      },
      "source": [
        ""
      ],
      "execution_count": null,
      "outputs": []
    },
    {
      "cell_type": "code",
      "metadata": {
        "id": "ohDxk004PCT9"
      },
      "source": [
        ""
      ],
      "execution_count": null,
      "outputs": []
    }
  ]
}