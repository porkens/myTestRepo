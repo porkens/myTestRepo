{
  "nbformat": 4,
  "nbformat_minor": 0,
  "metadata": {
    "colab": {
      "name": "Untitled3.ipynb",
      "provenance": [],
      "authorship_tag": "ABX9TyMJAIpsob5WfcMgSWPoayhe",
      "include_colab_link": true
    },
    "kernelspec": {
      "name": "python3",
      "display_name": "Python 3"
    },
    "language_info": {
      "name": "python"
    }
  },
  "cells": [
    {
      "cell_type": "markdown",
      "metadata": {
        "id": "view-in-github",
        "colab_type": "text"
      },
      "source": [
        "<a href=\"https://colab.research.google.com/github/porkens/myTestRepo/blob/main/Uczenie_Maszynowe_Projekt_Roulette.ipynb\" target=\"_parent\"><img src=\"https://colab.research.google.com/assets/colab-badge.svg\" alt=\"Open In Colab\"/></a>"
      ]
    },
    {
      "cell_type": "code",
      "metadata": {
        "id": "-uH0iFSCyrmR",
        "colab": {
          "base_uri": "https://localhost:8080/",
          "height": 54
        },
        "outputId": "f4fae03e-9323-4e99-a4ce-8cdb0b42e014"
      },
      "source": [
        "import gym\n",
        "import numpy as np\n",
        "import matplotlib.pyplot as plt\n",
        "from gym import spaces\n",
        "from gym.utils import seeding\n",
        "%matplotlib inline\n",
        "plt.figure(figsize=(4, 3))"
      ],
      "execution_count": null,
      "outputs": [
        {
          "output_type": "execute_result",
          "data": {
            "text/plain": [
              "<Figure size 288x216 with 0 Axes>"
            ]
          },
          "metadata": {
            "tags": []
          },
          "execution_count": 127
        },
        {
          "output_type": "display_data",
          "data": {
            "text/plain": [
              "<Figure size 288x216 with 0 Axes>"
            ]
          },
          "metadata": {
            "tags": []
          }
        }
      ]
    },
    {
      "cell_type": "markdown",
      "metadata": {
        "id": "vj4M5qubnh98"
      },
      "source": [
        "---Proste wyjaśnienie---     \n",
        "Agent gra w ruletkę od 0 do 36 w zmodyfikowanym otoczeniu kasyna. Dla każdego spinu agent stawia na numer. Agent otrzymuje pozytywną nagrodę, jeśli wyrzucona liczba nie jest zerem, a jej parytet jest zgodny z zakładem agenta. Dodatkowo agent może odejść od stołu kończąc grę."
      ]
    },
    {
      "cell_type": "markdown",
      "metadata": {
        "id": "ldB4F5pLnlo8"
      },
      "source": [
        "    ---Szczegółowe wyjaśnienie---\n",
        "    Koło ruletki ma 37 miejsc. Jeśli zakład wynosi 0 i wypadnie 0,\n",
        "    wygrywasz nagrodę w wysokości 35. Jeśli parytet Twojego zakładu odpowiada parytetowi\n",
        "    w obrocie wygrywasz 1. W przeciwnym razie otrzymasz nagrodę w wysokości -1.\n",
        "    Długoterminowa nagroda za grę 0 powinna wynosić -1/37 dla dowolnego stanu\n",
        "    Ostatnia akcja (38) zatrzymuje rollout na powrót 0 (odchodzenie od stołu)\n",
        "    "
      ]
    },
    {
      "cell_type": "markdown",
      "metadata": {
        "id": "t1r4bJobWGSV"
      },
      "source": [
        "Dodatkowo agent powinnien nauczyć się, że najlepszym długoterminowym posunięciem nie jest wcale granie, ale odejście od stołu."
      ]
    },
    {
      "cell_type": "code",
      "metadata": {
        "colab": {
          "base_uri": "https://localhost:8080/"
        },
        "id": "mUr18GyV1kUB",
        "outputId": "dc624ee2-8002-430f-b65a-a040711a23f8"
      },
      "source": [
        "env= gym.make('Roulette-v0').env\n",
        "env.reset()"
      ],
      "execution_count": null,
      "outputs": [
        {
          "output_type": "execute_result",
          "data": {
            "text/plain": [
              "0"
            ]
          },
          "metadata": {
            "tags": []
          },
          "execution_count": 128
        }
      ]
    },
    {
      "cell_type": "code",
      "metadata": {
        "colab": {
          "base_uri": "https://localhost:8080/"
        },
        "id": "jnGlQ6zrv4IN",
        "outputId": "af307637-2ec1-4920-9267-d2757d006be2"
      },
      "source": [
        "env.action_space"
      ],
      "execution_count": null,
      "outputs": [
        {
          "output_type": "execute_result",
          "data": {
            "text/plain": [
              "Discrete(38)"
            ]
          },
          "metadata": {
            "tags": []
          },
          "execution_count": 129
        }
      ]
    },
    {
      "cell_type": "code",
      "metadata": {
        "colab": {
          "base_uri": "https://localhost:8080/"
        },
        "id": "U4x8mj2c7M6R",
        "outputId": "7ccdc1d9-66c1-453a-ca20-0d44511bbf39"
      },
      "source": [
        "env.observation_space"
      ],
      "execution_count": null,
      "outputs": [
        {
          "output_type": "execute_result",
          "data": {
            "text/plain": [
              "Discrete(1)"
            ]
          },
          "metadata": {
            "tags": []
          },
          "execution_count": 130
        }
      ]
    },
    {
      "cell_type": "code",
      "metadata": {
        "colab": {
          "base_uri": "https://localhost:8080/"
        },
        "id": "uj3WyYGj7M-N",
        "outputId": "d541c847-13c8-4ab2-97de-292b14ed9d73"
      },
      "source": [
        "env.step(2)"
      ],
      "execution_count": null,
      "outputs": [
        {
          "output_type": "execute_result",
          "data": {
            "text/plain": [
              "(0, 1.0, False, {})"
            ]
          },
          "metadata": {
            "tags": []
          },
          "execution_count": 131
        }
      ]
    },
    {
      "cell_type": "code",
      "metadata": {
        "id": "fdnNE1Uo7Q64"
      },
      "source": [
        "n_states = env.observation_space.n\n",
        "n_actions = env.action_space.n"
      ],
      "execution_count": null,
      "outputs": []
    },
    {
      "cell_type": "code",
      "metadata": {
        "id": "P0QLupv2-bAK"
      },
      "source": [
        "def initialize_policy(n_states, n_actions):\n",
        "  \n",
        "    policy = np.zeros(shape=(n_states, n_actions)) +  1/n_actions\n",
        "    \n",
        "    return policy\n",
        "\n",
        "policy = initialize_policy(n_states, n_actions)"
      ],
      "execution_count": null,
      "outputs": []
    },
    {
      "cell_type": "code",
      "metadata": {
        "id": "mnGwmTlw7RDK"
      },
      "source": [
        "def generate_session(env, policy, t_max = 5000):\n",
        "  \n",
        "  observations, actions = [], []\n",
        "  total_reward = 0.\n",
        "  observation = env.reset()\n",
        "  \n",
        "  for t in range(t_max):\n",
        "    \n",
        "    action = np.random.choice(n_actions, p = policy[observation])\n",
        "\n",
        "    new_observation, reward, done, info = env.step(action)\n",
        "\n",
        "    observations.append(observation)\n",
        "    actions.append(action)\n",
        "    total_reward += reward\n",
        "\n",
        "    observation = new_observation\n",
        "    if done:\n",
        "        break\n",
        "\n",
        "  return observations, actions, total_reward"
      ],
      "execution_count": null,
      "outputs": []
    },
    {
      "cell_type": "code",
      "metadata": {
        "id": "GgE_IJNV7NCa"
      },
      "source": [
        "def select_elites(observations_batch, actions_batch, total_reward_batch, percentile):\n",
        "\n",
        "    reward_threshold = np.percentile(total_reward_batch, percentile)\n",
        "\n",
        "    elite_observations = []\n",
        "    elite_actions = []\n",
        "\n",
        "    for i in range(len(total_reward_batch)):\n",
        "      if total_reward_batch[i] >= reward_threshold:\n",
        "        elite_observations += (observations_batch[i])\n",
        "        elite_actions += (actions_batch[i])\n",
        "        \n",
        "    return elite_observations, elite_actions"
      ],
      "execution_count": null,
      "outputs": []
    },
    {
      "cell_type": "code",
      "metadata": {
        "id": "b4zgWeyV7NFg"
      },
      "source": [
        "def update_policy(elite_observations, elite_actions):\n",
        "\n",
        "    policy_updated = policy\n",
        "\n",
        "    elite_observations_unique = set(elite_observations)\n",
        "    \n",
        "    actions_count = {observation:[0] * n_actions for observation in elite_observations_unique}\n",
        "\n",
        "    for observation, action in zip(elite_observations, elite_actions):\n",
        "        actions_count[observation][action] += 1\n",
        "        \n",
        "     \n",
        "        \n",
        "    for observation in elite_observations_unique:\n",
        "        policy_updated[observation] = np.array(actions_count[observation]) / np.sum(actions_count[observation])\n",
        "\n",
        "    return policy_updated"
      ],
      "execution_count": null,
      "outputs": []
    },
    {
      "cell_type": "code",
      "metadata": {
        "id": "JWc4AkxUowHD"
      },
      "source": [
        "from IPython.display import clear_output\n",
        "\n",
        "def show_progress(rewards_batch, log, percentile):\n",
        "\n",
        "    mean_reward = np.mean(rewards_batch)\n",
        "    threshold = np.percentile(rewards_batch, percentile)\n",
        "    log.append([mean_reward, threshold])\n",
        "    \n",
        "    plt.figure(figsize=[8, 4])\n",
        "    plt.plot(list(zip(*log))[0], label='Mean rewards')\n",
        "    plt.plot(list(zip(*log))[1], label='Reward thresholds')\n",
        "    plt.legend()\n",
        "    plt.grid()\n",
        "\n",
        "    clear_output(True)\n",
        "    print(\"mean reward = \", mean_reward)\n",
        "    print(\"treshold = \", threshold)\n",
        "    plt.show()"
      ],
      "execution_count": null,
      "outputs": []
    },
    {
      "cell_type": "code",
      "metadata": {
        "id": "Lm56pCatowJz"
      },
      "source": [
        "policy = initialize_policy(n_states, n_actions)"
      ],
      "execution_count": null,
      "outputs": []
    },
    {
      "cell_type": "code",
      "metadata": {
        "colab": {
          "base_uri": "https://localhost:8080/",
          "height": 302
        },
        "id": "Hlzi-CQHowM4",
        "outputId": "69ffec04-5db7-4426-ad1c-02ad32db9bab"
      },
      "source": [
        "n_sessions = 100\n",
        "percentile = 50\n",
        "learning_rate = 0.5\n",
        "\n",
        "log = []\n",
        "\n",
        "for i in range(100):\n",
        "  \n",
        "    sessions = [generate_session(env, policy, t_max=5000) for j in range(n_sessions)]\n",
        "    \n",
        "    observations_batch, actions_batch, total_reward_batch = zip(*sessions)\n",
        "\n",
        "    elite_observations, elite_actions = select_elites(observations_batch, actions_batch, total_reward_batch, percentile)\n",
        "\n",
        "    policy_updated = update_policy(elite_observations, elite_actions)\n",
        "\n",
        "    policy = learning_rate * policy_updated + (1 - learning_rate) * policy\n",
        "\n",
        "    show_progress(total_reward_batch, log, percentile)"
      ],
      "execution_count": null,
      "outputs": [
        {
          "output_type": "stream",
          "text": [
            "mean reward =  0.0\n",
            "treshold =  0.0\n"
          ],
          "name": "stdout"
        },
        {
          "output_type": "display_data",
          "data": {
            "image/png": "[encoded data removed]",
            "text/plain": [
              "<Figure size 576x288 with 1 Axes>"
            ]
          },
          "metadata": {
            "tags": [],
            "needs_background": "light"
          }
        }
      ]
    },
    {
      "cell_type": "code",
      "metadata": {
        "colab": {
          "base_uri": "https://localhost:8080/"
        },
        "id": "jVjoPLp4uzBv",
        "outputId": "2d726acd-4de3-4cb0-b7d5-f35385537bf3"
      },
      "source": [
        "total_reward = 0.\n",
        "\n",
        "observation = env.reset()\n",
        "\n",
        "\n",
        "\n",
        "for t in range(100):\n",
        "\n",
        "\n",
        "\n",
        "  action = np.random.choice(n_actions, p = policy[observation])\n",
        "\n",
        "  \n",
        "\n",
        "  new_observation, reward, done, info = env.step(action)\n",
        "\n",
        "\n",
        "\n",
        "  observation = new_observation\n",
        "\n",
        "\n",
        "\n",
        "  total_reward += reward\n",
        "\n",
        "\n",
        "\n",
        "  print(t, total_reward, done, action)"
      ],
      "execution_count": null,
      "outputs": [
        {
          "output_type": "stream",
          "text": [
            "0 0.0 True 37\n",
            "1 0.0 True 37\n",
            "2 0.0 True 37\n",
            "3 0.0 True 37\n",
            "4 0.0 True 37\n",
            "5 0.0 True 37\n",
            "6 0.0 True 37\n",
            "7 0.0 True 37\n",
            "8 0.0 True 37\n",
            "9 0.0 True 37\n",
            "10 0.0 True 37\n",
            "11 0.0 True 37\n",
            "12 0.0 True 37\n",
            "13 0.0 True 37\n",
            "14 0.0 True 37\n",
            "15 0.0 True 37\n",
            "16 0.0 True 37\n",
            "17 0.0 True 37\n",
            "18 0.0 True 37\n",
            "19 0.0 True 37\n",
            "20 0.0 True 37\n",
            "21 0.0 True 37\n",
            "22 0.0 True 37\n",
            "23 0.0 True 37\n",
            "24 0.0 True 37\n",
            "25 0.0 True 37\n",
            "26 0.0 True 37\n",
            "27 0.0 True 37\n",
            "28 0.0 True 37\n",
            "29 0.0 True 37\n",
            "30 0.0 True 37\n",
            "31 0.0 True 37\n",
            "32 0.0 True 37\n",
            "33 0.0 True 37\n",
            "34 0.0 True 37\n",
            "35 0.0 True 37\n",
            "36 0.0 True 37\n",
            "37 0.0 True 37\n",
            "38 0.0 True 37\n",
            "39 0.0 True 37\n",
            "40 0.0 True 37\n",
            "41 0.0 True 37\n",
            "42 0.0 True 37\n",
            "43 0.0 True 37\n",
            "44 0.0 True 37\n",
            "45 0.0 True 37\n",
            "46 0.0 True 37\n",
            "47 0.0 True 37\n",
            "48 0.0 True 37\n",
            "49 0.0 True 37\n",
            "50 0.0 True 37\n",
            "51 0.0 True 37\n",
            "52 0.0 True 37\n",
            "53 0.0 True 37\n",
            "54 0.0 True 37\n",
            "55 0.0 True 37\n",
            "56 0.0 True 37\n",
            "57 0.0 True 37\n",
            "58 0.0 True 37\n",
            "59 0.0 True 37\n",
            "60 0.0 True 37\n",
            "61 0.0 True 37\n",
            "62 0.0 True 37\n",
            "63 0.0 True 37\n",
            "64 0.0 True 37\n",
            "65 0.0 True 37\n",
            "66 0.0 True 37\n",
            "67 0.0 True 37\n",
            "68 0.0 True 37\n",
            "69 0.0 True 37\n",
            "70 0.0 True 37\n",
            "71 0.0 True 37\n",
            "72 0.0 True 37\n",
            "73 0.0 True 37\n",
            "74 0.0 True 37\n",
            "75 0.0 True 37\n",
            "76 0.0 True 37\n",
            "77 0.0 True 37\n",
            "78 0.0 True 37\n",
            "79 0.0 True 37\n",
            "80 0.0 True 37\n",
            "81 0.0 True 37\n",
            "82 0.0 True 37\n",
            "83 0.0 True 37\n",
            "84 0.0 True 37\n",
            "85 0.0 True 37\n",
            "86 0.0 True 37\n",
            "87 0.0 True 37\n",
            "88 0.0 True 37\n",
            "89 0.0 True 37\n",
            "90 0.0 True 37\n",
            "91 0.0 True 37\n",
            "92 0.0 True 37\n",
            "93 0.0 True 37\n",
            "94 0.0 True 37\n",
            "95 0.0 True 37\n",
            "96 0.0 True 37\n",
            "97 0.0 True 37\n",
            "98 0.0 True 37\n",
            "99 0.0 True 37\n"
          ],
          "name": "stdout"
        }
      ]
    }
  ]
}