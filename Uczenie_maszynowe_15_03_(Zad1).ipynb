{
  "nbformat": 4,
  "nbformat_minor": 0,
  "metadata": {
    "colab": {
      "name": "Kopia notatnika LAB_2_openai_gym_STARTER.ipynb",
      "provenance": [],
      "collapsed_sections": [],
      "include_colab_link": true
    },
    "kernelspec": {
      "name": "python3",
      "display_name": "Python 3"
    }
  },
  "cells": [
    {
      "cell_type": "markdown",
      "metadata": {
        "id": "view-in-github",
        "colab_type": "text"
      },
      "source": [
        "<a href=\"https://colab.research.google.com/github/porkens/myTestRepo/blob/main/Uczenie_maszynowe_15_03_(Zad1).ipynb\" target=\"_parent\"><img src=\"https://colab.research.google.com/assets/colab-badge.svg\" alt=\"Open In Colab\"/></a>"
      ]
    },
    {
      "cell_type": "code",
      "metadata": {
        "id": "9RnnVMGXsEqN"
      },
      "source": [
        "# Rozwiązanie dla renderowania środowiska OpenAI Gym dla Google Colab, źródło:\r\n",
        "# Yandex Data School, Higher School of Economics, Practical_RL Course, Github, https://github.com/yandexdataschool/Practical_RL/blob/master/setup_colab.sh\r\n",
        "\r\n",
        "import sys, os\r\n",
        "if 'google.colab' in sys.modules and not os.path.exists('.setup_complete'):\r\n",
        "    !wget -q https://raw.githubusercontent.com/yandexdataschool/Practical_RL/master/setup_colab.sh -O- | bash\r\n",
        "    !touch .setup_complete\r\n",
        "\r\n",
        "if type(os.environ.get(\"DISPLAY\")) is not str or len(os.environ.get(\"DISPLAY\")) == 0:\r\n",
        "    !bash ../xvfb start\r\n",
        "    os.environ['DISPLAY'] = ':1'"
      ],
      "execution_count": null,
      "outputs": []
    },
    {
      "cell_type": "code",
      "metadata": {
        "id": "daJTqQrxuexI",
        "colab": {
          "base_uri": "https://localhost:8080/",
          "height": 35
        },
        "outputId": "9e194162-0474-4e55-afe4-123406cc8e7a"
      },
      "source": [
        "import matplotlib.pyplot as plt\r\n",
        "%matplotlib inline\r\n",
        "plt.figure(figsize=(4, 3))\r\n",
        "\r\n",
        "from IPython import display\r\n",
        "display.clear_output(wait=True)"
      ],
      "execution_count": null,
      "outputs": [
        {
          "output_type": "display_data",
          "data": {
            "text/plain": [
              "<Figure size 288x216 with 0 Axes>"
            ]
          },
          "metadata": {
            "tags": []
          }
        }
      ]
    },
    {
      "cell_type": "code",
      "metadata": {
        "colab": {
          "base_uri": "https://localhost:8080/"
        },
        "id": "_TUwg2DLOLMy",
        "outputId": "45282ec8-ab93-4db0-cd55-6764bfb402af"
      },
      "source": [
        "import gym \r\n",
        "\r\n",
        "env = gym.make(\"MountainCar-v0\")\r\n",
        "env.reset()"
      ],
      "execution_count": null,
      "outputs": [
        {
          "output_type": "execute_result",
          "data": {
            "text/plain": [
              "array([-0.52528694,  0.        ])"
            ]
          },
          "metadata": {
            "tags": []
          },
          "execution_count": 133
        }
      ]
    },
    {
      "cell_type": "code",
      "metadata": {
        "colab": {
          "base_uri": "https://localhost:8080/",
          "height": 287
        },
        "id": "Do4XElefOL54",
        "outputId": "73505835-e594-4a9f-e718-fc02a5ab0fe3"
      },
      "source": [
        "plt.imshow(env.render(\"rgb_array\"))"
      ],
      "execution_count": null,
      "outputs": [
        {
          "output_type": "execute_result",
          "data": {
            "text/plain": [
              "<matplotlib.image.AxesImage at 0x7f3453583090>"
            ]
          },
          "metadata": {
            "tags": []
          },
          "execution_count": 134
        },
        {
          "output_type": "display_data",
          "data": {
            "image/png": "[encoded data removed]",
            "text/plain": [
              "<Figure size 432x288 with 1 Axes>"
            ]
          },
          "metadata": {
            "tags": [],
            "needs_background": "light"
          }
        }
      ]
    },
    {
      "cell_type": "code",
      "metadata": {
        "colab": {
          "base_uri": "https://localhost:8080/"
        },
        "id": "gDrhA_LUOL9M",
        "outputId": "441a0bd7-c984-454a-8275-24021039468d"
      },
      "source": [
        "env.reset()\r\n",
        "\r\n",
        "for t in range(199):\r\n",
        "  actions = env.action_space.sample()\r\n",
        "  observation, reward, done, info = env.step(actions)\r\n",
        "  print(t, observation, reward, done)\r\n"
      ],
      "execution_count": null,
      "outputs": [
        {
          "output_type": "stream",
          "text": [
            "0 [-0.57992921  0.00143105] -1.0 False\n",
            "1 [-0.5780777   0.00185152] -1.0 False\n",
            "2 [-0.5768194   0.00125829] -1.0 False\n",
            "3 [-0.57616365  0.00065575] -1.0 False\n",
            "4 [-0.57511529  0.00104836] -1.0 False\n",
            "5 [-5.74682099e-01  4.33195203e-04] -1.0 False\n",
            "6 [-0.57286728  0.00181482] -1.0 False\n",
            "7 [-0.57068428  0.00218299] -1.0 False\n",
            "8 [-0.56814932  0.00253496] -1.0 False\n",
            "9 [-0.56428123  0.0038681 ] -1.0 False\n",
            "10 [-0.56110877  0.00317246] -1.0 False\n",
            "11 [-0.55865558  0.00245319] -1.0 False\n",
            "12 [-0.55593995  0.00271563] -1.0 False\n",
            "13 [-0.55398215  0.00195781] -1.0 False\n",
            "14 [-0.55179678  0.00218537] -1.0 False\n",
            "15 [-0.54940018  0.0023966 ] -1.0 False\n",
            "16 [-0.54581026  0.00358992] -1.0 False\n",
            "17 [-0.54105388  0.00475638] -1.0 False\n",
            "18 [-0.53516664  0.00588723] -1.0 False\n",
            "19 [-0.52819266  0.00697398] -1.0 False\n",
            "20 [-0.52218423  0.00600843] -1.0 False\n",
            "21 [-0.51718641  0.00499782] -1.0 False\n",
            "22 [-0.51323668  0.00394973] -1.0 False\n",
            "23 [-0.50836466  0.00487203] -1.0 False\n",
            "24 [-0.50460684  0.00375781] -1.0 False\n",
            "25 [-0.50199139  0.00261545] -1.0 False\n",
            "26 [-0.49853789  0.00345351] -1.0 False\n",
            "27 [-0.49527216  0.00326573] -1.0 False\n",
            "28 [-0.49221863  0.00305353] -1.0 False\n",
            "29 [-0.4884001   0.00381853] -1.0 False\n",
            "30 [-0.48484507  0.00355503] -1.0 False\n",
            "31 [-0.48158004  0.00326503] -1.0 False\n",
            "32 [-0.47962931  0.00195073] -1.0 False\n",
            "33 [-0.4770074   0.00262191] -1.0 False\n",
            "34 [-0.47473379  0.00227361] -1.0 False\n",
            "35 [-0.47382536  0.00090843] -1.0 False\n",
            "36 [-0.47328884  0.00053652] -1.0 False\n",
            "37 [-0.47212821  0.00116063] -1.0 False\n",
            "38 [-0.47135208  0.00077613] -1.0 False\n",
            "39 [-4.70966199e-01  3.85881349e-04] -1.0 False\n",
            "40 [-4.70973424e-01 -7.22474641e-06] -1.0 False\n",
            "41 [-0.4723737  -0.00140028] -1.0 False\n",
            "42 [-0.47515666 -0.00278296] -1.0 False\n",
            "43 [-0.47830165 -0.00314499] -1.0 False\n",
            "44 [-0.48178533 -0.00348368] -1.0 False\n",
            "45 [-0.48558178 -0.00379646] -1.0 False\n",
            "46 [-0.48866275 -0.00308097] -1.0 False\n",
            "47 [-0.49200526 -0.00334251] -1.0 False\n",
            "48 [-0.49658436 -0.0045791 ] -1.0 False\n",
            "49 [-0.50036585 -0.00378149] -1.0 False\n",
            "50 [-0.50432144 -0.0039556 ] -1.0 False\n",
            "51 [-0.50742154 -0.0031001 ] -1.0 False\n",
            "52 [-0.50964292 -0.00222138] -1.0 False\n",
            "53 [-0.51096893 -0.00132602] -1.0 False\n",
            "54 [-0.51338965 -0.00242072] -1.0 False\n",
            "55 [-0.51688692 -0.00349727] -1.0 False\n",
            "56 [-0.52143453 -0.00454761] -1.0 False\n",
            "57 [-0.52699837 -0.00556384] -1.0 False\n",
            "58 [-0.53353671 -0.00653834] -1.0 False\n",
            "59 [-0.54000053 -0.00646382] -1.0 False\n",
            "60 [-0.54634139 -0.00634086] -1.0 False\n",
            "61 [-0.55251181 -0.00617042] -1.0 False\n",
            "62 [-0.55746565 -0.00495384] -1.0 False\n",
            "63 [-0.56116593 -0.00370028] -1.0 False\n",
            "64 [-0.56458505 -0.00341912] -1.0 False\n",
            "65 [-0.56869755 -0.0041125 ] -1.0 False\n",
            "66 [-0.57247284 -0.00377529] -1.0 False\n",
            "67 [-0.57688288 -0.00441004] -1.0 False\n",
            "68 [-0.581895   -0.00501211] -1.0 False\n",
            "69 [-0.58547211 -0.00357712] -1.0 False\n",
            "70 [-0.58958784 -0.00411573] -1.0 False\n",
            "71 [-0.59221188 -0.00262404] -1.0 False\n",
            "72 [-0.59432494 -0.00211306] -1.0 False\n",
            "73 [-0.59691153 -0.00258659] -1.0 False\n",
            "74 [-0.59795269 -0.00104117] -1.0 False\n",
            "75 [-0.59944082 -0.00148812] -1.0 False\n",
            "76 [-0.60036502 -0.0009242 ] -1.0 False\n",
            "77 [-6.00718554e-01 -3.53532605e-04] -1.0 False\n",
            "78 [-0.59949883  0.00121972] -1.0 False\n",
            "79 [-0.59771477  0.00178406] -1.0 False\n",
            "80 [-0.59637941  0.00133536] -1.0 False\n",
            "81 [-0.59550251  0.00087689] -1.0 False\n",
            "82 [-0.59309052  0.002412  ] -1.0 False\n",
            "83 [-0.5911611   0.00192942] -1.0 False\n",
            "84 [-0.58772842  0.00343267] -1.0 False\n",
            "85 [-0.58481774  0.00291068] -1.0 False\n",
            "86 [-0.58145049  0.00336725] -1.0 False\n",
            "87 [-0.57865152  0.00279896] -1.0 False\n",
            "88 [-0.57644154  0.00220998] -1.0 False\n",
            "89 [-0.57483689  0.00160465] -1.0 False\n",
            "90 [-0.57184947  0.00298742] -1.0 False\n",
            "91 [-0.56750143  0.00434804] -1.0 False\n",
            "92 [-0.56182507  0.00567636] -1.0 False\n",
            "93 [-0.55586265  0.00596243] -1.0 False\n",
            "94 [-0.55065862  0.00520403] -1.0 False\n",
            "95 [-0.54625186  0.00440675] -1.0 False\n",
            "96 [-0.54267534  0.00357652] -1.0 False\n",
            "97 [-0.53895582  0.00371952] -1.0 False\n",
            "98 [-0.53512117  0.00383466] -1.0 False\n",
            "99 [-0.53020011  0.00492106] -1.0 False\n",
            "100 [-0.52622955  0.00397056] -1.0 False\n",
            "101 [-0.52323926  0.00299029] -1.0 False\n",
            "102 [-0.52025166  0.0029876 ] -1.0 False\n",
            "103 [-0.51628916  0.00396249] -1.0 False\n",
            "104 [-0.51138149  0.00490768] -1.0 False\n",
            "105 [-0.50556542  0.00581607] -1.0 False\n",
            "106 [-0.50088454  0.00468088] -1.0 False\n",
            "107 [-0.49637388  0.00451066] -1.0 False\n",
            "108 [-0.49206718  0.0043067 ] -1.0 False\n",
            "109 [-0.48899662  0.00307056] -1.0 False\n",
            "110 [-0.4861851   0.00281151] -1.0 False\n",
            "111 [-0.4836536  0.0025315] -1.0 False\n",
            "112 [-0.48142098  0.00223263] -1.0 False\n",
            "113 [-0.47950384  0.00191714] -1.0 False\n",
            "114 [-0.47791645  0.00158739] -1.0 False\n",
            "115 [-0.47567061  0.00224584] -1.0 False\n",
            "116 [-0.47478299  0.00088762] -1.0 False\n",
            "117 [-0.47326018  0.00152281] -1.0 False\n",
            "118 [-0.47211348  0.0011467 ] -1.0 False\n",
            "119 [-0.47035138  0.0017621 ] -1.0 False\n",
            "120 [-0.46798695  0.00236444] -1.0 False\n",
            "121 [-0.46503767  0.00294928] -1.0 False\n",
            "122 [-0.46152534  0.00351233] -1.0 False\n",
            "123 [-0.45847588  0.00304946] -1.0 False\n",
            "124 [-0.45491173  0.00356414] -1.0 False\n",
            "125 [-0.45185911  0.00305263] -1.0 False\n",
            "126 [-0.44934038  0.00251872] -1.0 False\n",
            "127 [-0.447374    0.00196638] -1.0 False\n",
            "128 [-0.44597434  0.00139966] -1.0 False\n",
            "129 [-0.44515161  0.00082273] -1.0 False\n",
            "130 [-0.44391181  0.00123979] -1.0 False\n",
            "131 [-4.44263999e-01 -3.52184302e-04] -1.0 False\n",
            "132 [-0.44620559 -0.00194159] -1.0 False\n",
            "133 [-0.44772243 -0.00151684] -1.0 False\n",
            "134 [-0.44980345 -0.00208101] -1.0 False\n",
            "135 [-0.45343341 -0.00362997] -1.0 False\n",
            "136 [-0.45758574 -0.00415233] -1.0 False\n",
            "137 [-0.46122994 -0.0036442 ] -1.0 False\n",
            "138 [-0.46633918 -0.00510924] -1.0 False\n",
            "139 [-0.47087576 -0.00453658] -1.0 False\n",
            "140 [-0.47580611 -0.00493035] -1.0 False\n",
            "141 [-0.48009368 -0.00428757] -1.0 False\n",
            "142 [-0.48470662 -0.00461293] -1.0 False\n",
            "143 [-0.49061058 -0.00590396] -1.0 False\n",
            "144 [-0.49776155 -0.00715097] -1.0 False\n",
            "145 [-0.50510611 -0.00734456] -1.0 False\n",
            "146 [-0.51258929 -0.00748318] -1.0 False\n",
            "147 [-0.52015503 -0.00756574] -1.0 False\n",
            "148 [-0.52774659 -0.00759156] -1.0 False\n",
            "149 [-0.53430705 -0.00656046] -1.0 False\n",
            "150 [-0.54078721 -0.00648016] -1.0 False\n",
            "151 [-0.54613851 -0.0053513 ] -1.0 False\n",
            "152 [-0.55032089 -0.00418238] -1.0 False\n",
            "153 [-0.55430308 -0.00398218] -1.0 False\n",
            "154 [-0.5590553  -0.00475223] -1.0 False\n",
            "155 [-0.5645421 -0.0054868] -1.0 False\n",
            "156 [-0.5687226 -0.0041805] -1.0 False\n",
            "157 [-0.57256571 -0.0038431 ] -1.0 False\n",
            "158 [-0.57604288 -0.00347717] -1.0 False\n",
            "159 [-0.57812834 -0.00208546] -1.0 False\n",
            "160 [-0.57980665 -0.00167831] -1.0 False\n",
            "161 [-0.58206539 -0.00225875] -1.0 False\n",
            "162 [-0.58288788 -0.00082249] -1.0 False\n",
            "163 [-5.83268049e-01 -3.80164302e-04] -1.0 False\n",
            "164 [-0.58420308 -0.00093503] -1.0 False\n",
            "165 [-5.84686079e-01 -4.82998712e-04] -1.0 False\n",
            "166 [-5.84713483e-01 -2.74041523e-05] -1.0 False\n",
            "167 [-5.84285090e-01  4.28392495e-04] -1.0 False\n",
            "168 [-0.58340406  0.00088103] -1.0 False\n",
            "169 [-0.58207689  0.00132717] -1.0 False\n",
            "170 [-0.58031339  0.00176351] -1.0 False\n",
            "171 [-0.57912657  0.00118682] -1.0 False\n",
            "172 [-0.57852522  0.00060135] -1.0 False\n",
            "173 [-0.57751378  0.00101144] -1.0 False\n",
            "174 [-5.77099741e-01  4.14040014e-04] -1.0 False\n",
            "175 [-0.57628616  0.00081358] -1.0 False\n",
            "176 [-5.76079075e-01  2.07088725e-04] -1.0 False\n",
            "177 [-0.57448001  0.00159907] -1.0 False\n",
            "178 [-0.57250081  0.0019792 ] -1.0 False\n",
            "179 [-0.56915617  0.00334465] -1.0 False\n",
            "180 [-0.5664709   0.00268526] -1.0 False\n",
            "181 [-0.56246498  0.00400592] -1.0 False\n",
            "182 [-0.55716822  0.00529676] -1.0 False\n",
            "183 [-0.55162012  0.0055481 ] -1.0 False\n",
            "184 [-0.54686211  0.00475801] -1.0 False\n",
            "185 [-0.54092976  0.00593235] -1.0 False\n",
            "186 [-0.53386749  0.00706227] -1.0 False\n",
            "187 [-0.52672821  0.00713927] -1.0 False\n",
            "188 [-0.52056547  0.00616275] -1.0 False\n",
            "189 [-0.51442547  0.00614   ] -1.0 False\n",
            "190 [-0.50735427  0.0070712 ] -1.0 False\n",
            "191 [-0.49940485  0.00794942] -1.0 False\n",
            "192 [-0.49163672  0.00776812] -1.0 False\n",
            "193 [-0.48510795  0.00652878] -1.0 False\n",
            "194 [-0.47886721  0.00624074] -1.0 False\n",
            "195 [-0.47396096  0.00490625] -1.0 False\n",
            "196 [-0.47042561  0.00353535] -1.0 False\n",
            "197 [-0.46828738  0.00213824] -1.0 False\n",
            "198 [-0.46656207  0.0017253 ] -1.0 False\n"
          ],
          "name": "stdout"
        }
      ]
    },
    {
      "cell_type": "code",
      "metadata": {
        "id": "vUFozs7bOL_4"
      },
      "source": [
        "def policy(observation, t):\r\n",
        "  actions = {'left': 0, 'stop': 1, 'right': 2}\r\n",
        "  position, velocity = observation\r\n",
        "\r\n",
        "  \r\n",
        "  if velocity > 0:\r\n",
        "    action = actions['right']\r\n",
        "  elif velocity < 0:\r\n",
        "    action = actions['left']\r\n",
        "  else:\r\n",
        "    action = actions['left']\r\n",
        "\r\n",
        "  return action\r\n",
        "\r\n",
        "    "
      ],
      "execution_count": null,
      "outputs": []
    },
    {
      "cell_type": "code",
      "metadata": {
        "colab": {
          "base_uri": "https://localhost:8080/",
          "height": 687
        },
        "id": "QevWg740OMCu",
        "outputId": "ee00688f-410a-4ccf-df95-7d465ee7f305"
      },
      "source": [
        "observation = env.reset()\r\n",
        "for t in range(199):\r\n",
        "  plt.gca().clear\r\n",
        "\r\n",
        "  actions = policy(observation, t)\r\n",
        "  observation, reward, done, info = env.step(actions)\r\n",
        "\r\n",
        "  plt.imshow(env.render('rgb_array'))\r\n",
        "  display.display(plt.gcf())\r\n",
        "  display.clear_output(wait=True)\r\n",
        "\r\n",
        "  if done:\r\n",
        "    break"
      ],
      "execution_count": null,
      "outputs": [
        {
          "output_type": "error",
          "ename": "KeyboardInterrupt",
          "evalue": "ignored",
          "traceback": [
            "\u001b[0;31m---------------------------------------------------------------------------\u001b[0m",
            "\u001b[0;31mKeyboardInterrupt\u001b[0m                         Traceback (most recent call last)",
            "\u001b[0;32m<ipython-input-137-435bf69421a3>\u001b[0m in \u001b[0;36m<module>\u001b[0;34m()\u001b[0m\n\u001b[1;32m      7\u001b[0m \u001b[0;34m\u001b[0m\u001b[0m\n\u001b[1;32m      8\u001b[0m   \u001b[0mplt\u001b[0m\u001b[0;34m.\u001b[0m\u001b[0mimshow\u001b[0m\u001b[0;34m(\u001b[0m\u001b[0menv\u001b[0m\u001b[0;34m.\u001b[0m\u001b[0mrender\u001b[0m\u001b[0;34m(\u001b[0m\u001b[0;34m'rgb_array'\u001b[0m\u001b[0;34m)\u001b[0m\u001b[0;34m)\u001b[0m\u001b[0;34m\u001b[0m\u001b[0;34m\u001b[0m\u001b[0m\n\u001b[0;32m----> 9\u001b[0;31m   \u001b[0mdisplay\u001b[0m\u001b[0;34m.\u001b[0m\u001b[0mdisplay\u001b[0m\u001b[0;34m(\u001b[0m\u001b[0mplt\u001b[0m\u001b[0;34m.\u001b[0m\u001b[0mgcf\u001b[0m\u001b[0;34m(\u001b[0m\u001b[0;34m)\u001b[0m\u001b[0;34m)\u001b[0m\u001b[0;34m\u001b[0m\u001b[0;34m\u001b[0m\u001b[0m\n\u001b[0m\u001b[1;32m     10\u001b[0m   \u001b[0mdisplay\u001b[0m\u001b[0;34m.\u001b[0m\u001b[0mclear_output\u001b[0m\u001b[0;34m(\u001b[0m\u001b[0mwait\u001b[0m\u001b[0;34m=\u001b[0m\u001b[0;32mTrue\u001b[0m\u001b[0;34m)\u001b[0m\u001b[0;34m\u001b[0m\u001b[0;34m\u001b[0m\u001b[0m\n\u001b[1;32m     11\u001b[0m \u001b[0;34m\u001b[0m\u001b[0m\n",
            "\u001b[0;32m/usr/local/lib/python3.7/dist-packages/IPython/core/display.py\u001b[0m in \u001b[0;36mdisplay\u001b[0;34m(*objs, **kwargs)\u001b[0m\n\u001b[1;32m    304\u001b[0m             \u001b[0mpublish_display_data\u001b[0m\u001b[0;34m(\u001b[0m\u001b[0mdata\u001b[0m\u001b[0;34m=\u001b[0m\u001b[0mobj\u001b[0m\u001b[0;34m,\u001b[0m \u001b[0mmetadata\u001b[0m\u001b[0;34m=\u001b[0m\u001b[0mmetadata\u001b[0m\u001b[0;34m,\u001b[0m \u001b[0;34m**\u001b[0m\u001b[0mkwargs\u001b[0m\u001b[0;34m)\u001b[0m\u001b[0;34m\u001b[0m\u001b[0;34m\u001b[0m\u001b[0m\n\u001b[1;32m    305\u001b[0m         \u001b[0;32melse\u001b[0m\u001b[0;34m:\u001b[0m\u001b[0;34m\u001b[0m\u001b[0;34m\u001b[0m\u001b[0m\n\u001b[0;32m--> 306\u001b[0;31m             \u001b[0mformat_dict\u001b[0m\u001b[0;34m,\u001b[0m \u001b[0mmd_dict\u001b[0m \u001b[0;34m=\u001b[0m \u001b[0mformat\u001b[0m\u001b[0;34m(\u001b[0m\u001b[0mobj\u001b[0m\u001b[0;34m,\u001b[0m \u001b[0minclude\u001b[0m\u001b[0;34m=\u001b[0m\u001b[0minclude\u001b[0m\u001b[0;34m,\u001b[0m \u001b[0mexclude\u001b[0m\u001b[0;34m=\u001b[0m\u001b[0mexclude\u001b[0m\u001b[0;34m)\u001b[0m\u001b[0;34m\u001b[0m\u001b[0;34m\u001b[0m\u001b[0m\n\u001b[0m\u001b[1;32m    307\u001b[0m             \u001b[0;32mif\u001b[0m \u001b[0;32mnot\u001b[0m \u001b[0mformat_dict\u001b[0m\u001b[0;34m:\u001b[0m\u001b[0;34m\u001b[0m\u001b[0;34m\u001b[0m\u001b[0m\n\u001b[1;32m    308\u001b[0m                 \u001b[0;31m# nothing to display (e.g. _ipython_display_ took over)\u001b[0m\u001b[0;34m\u001b[0m\u001b[0;34m\u001b[0m\u001b[0;34m\u001b[0m\u001b[0m\n",
            "\u001b[0;32m/usr/local/lib/python3.7/dist-packages/IPython/core/formatters.py\u001b[0m in \u001b[0;36mformat\u001b[0;34m(self, obj, include, exclude)\u001b[0m\n\u001b[1;32m    171\u001b[0m             \u001b[0mmd\u001b[0m \u001b[0;34m=\u001b[0m \u001b[0;32mNone\u001b[0m\u001b[0;34m\u001b[0m\u001b[0;34m\u001b[0m\u001b[0m\n\u001b[1;32m    172\u001b[0m             \u001b[0;32mtry\u001b[0m\u001b[0;34m:\u001b[0m\u001b[0;34m\u001b[0m\u001b[0;34m\u001b[0m\u001b[0m\n\u001b[0;32m--> 173\u001b[0;31m                 \u001b[0mdata\u001b[0m \u001b[0;34m=\u001b[0m \u001b[0mformatter\u001b[0m\u001b[0;34m(\u001b[0m\u001b[0mobj\u001b[0m\u001b[0;34m)\u001b[0m\u001b[0;34m\u001b[0m\u001b[0;34m\u001b[0m\u001b[0m\n\u001b[0m\u001b[1;32m    174\u001b[0m             \u001b[0;32mexcept\u001b[0m\u001b[0;34m:\u001b[0m\u001b[0;34m\u001b[0m\u001b[0;34m\u001b[0m\u001b[0m\n\u001b[1;32m    175\u001b[0m                 \u001b[0;31m# FIXME: log the exception\u001b[0m\u001b[0;34m\u001b[0m\u001b[0;34m\u001b[0m\u001b[0;34m\u001b[0m\u001b[0m\n",
            "\u001b[0;32m<decorator-gen-2>\u001b[0m in \u001b[0;36m__call__\u001b[0;34m(self, obj)\u001b[0m\n",
            "\u001b[0;32m/usr/local/lib/python3.7/dist-packages/IPython/core/formatters.py\u001b[0m in \u001b[0;36mcatch_format_error\u001b[0;34m(method, self, *args, **kwargs)\u001b[0m\n\u001b[1;32m    215\u001b[0m     \u001b[0;34m\"\"\"show traceback on failed format call\"\"\"\u001b[0m\u001b[0;34m\u001b[0m\u001b[0;34m\u001b[0m\u001b[0m\n\u001b[1;32m    216\u001b[0m     \u001b[0;32mtry\u001b[0m\u001b[0;34m:\u001b[0m\u001b[0;34m\u001b[0m\u001b[0;34m\u001b[0m\u001b[0m\n\u001b[0;32m--> 217\u001b[0;31m         \u001b[0mr\u001b[0m \u001b[0;34m=\u001b[0m \u001b[0mmethod\u001b[0m\u001b[0;34m(\u001b[0m\u001b[0mself\u001b[0m\u001b[0;34m,\u001b[0m \u001b[0;34m*\u001b[0m\u001b[0margs\u001b[0m\u001b[0;34m,\u001b[0m \u001b[0;34m**\u001b[0m\u001b[0mkwargs\u001b[0m\u001b[0;34m)\u001b[0m\u001b[0;34m\u001b[0m\u001b[0;34m\u001b[0m\u001b[0m\n\u001b[0m\u001b[1;32m    218\u001b[0m     \u001b[0;32mexcept\u001b[0m \u001b[0mNotImplementedError\u001b[0m\u001b[0;34m:\u001b[0m\u001b[0;34m\u001b[0m\u001b[0;34m\u001b[0m\u001b[0m\n\u001b[1;32m    219\u001b[0m         \u001b[0;31m# don't warn on NotImplementedErrors\u001b[0m\u001b[0;34m\u001b[0m\u001b[0;34m\u001b[0m\u001b[0;34m\u001b[0m\u001b[0m\n",
            "\u001b[0;32m/usr/local/lib/python3.7/dist-packages/IPython/core/formatters.py\u001b[0m in \u001b[0;36m__call__\u001b[0;34m(self, obj)\u001b[0m\n\u001b[1;32m    332\u001b[0m                 \u001b[0;32mpass\u001b[0m\u001b[0;34m\u001b[0m\u001b[0;34m\u001b[0m\u001b[0m\n\u001b[1;32m    333\u001b[0m             \u001b[0;32melse\u001b[0m\u001b[0;34m:\u001b[0m\u001b[0;34m\u001b[0m\u001b[0;34m\u001b[0m\u001b[0m\n\u001b[0;32m--> 334\u001b[0;31m                 \u001b[0;32mreturn\u001b[0m \u001b[0mprinter\u001b[0m\u001b[0;34m(\u001b[0m\u001b[0mobj\u001b[0m\u001b[0;34m)\u001b[0m\u001b[0;34m\u001b[0m\u001b[0;34m\u001b[0m\u001b[0m\n\u001b[0m\u001b[1;32m    335\u001b[0m             \u001b[0;31m# Finally look for special method names\u001b[0m\u001b[0;34m\u001b[0m\u001b[0;34m\u001b[0m\u001b[0;34m\u001b[0m\u001b[0m\n\u001b[1;32m    336\u001b[0m             \u001b[0mmethod\u001b[0m \u001b[0;34m=\u001b[0m \u001b[0mget_real_method\u001b[0m\u001b[0;34m(\u001b[0m\u001b[0mobj\u001b[0m\u001b[0;34m,\u001b[0m \u001b[0mself\u001b[0m\u001b[0;34m.\u001b[0m\u001b[0mprint_method\u001b[0m\u001b[0;34m)\u001b[0m\u001b[0;34m\u001b[0m\u001b[0;34m\u001b[0m\u001b[0m\n",
            "\u001b[0;32m/usr/local/lib/python3.7/dist-packages/IPython/core/pylabtools.py\u001b[0m in \u001b[0;36m<lambda>\u001b[0;34m(fig)\u001b[0m\n\u001b[1;32m    239\u001b[0m \u001b[0;34m\u001b[0m\u001b[0m\n\u001b[1;32m    240\u001b[0m     \u001b[0;32mif\u001b[0m \u001b[0;34m'png'\u001b[0m \u001b[0;32min\u001b[0m \u001b[0mformats\u001b[0m\u001b[0;34m:\u001b[0m\u001b[0;34m\u001b[0m\u001b[0;34m\u001b[0m\u001b[0m\n\u001b[0;32m--> 241\u001b[0;31m         \u001b[0mpng_formatter\u001b[0m\u001b[0;34m.\u001b[0m\u001b[0mfor_type\u001b[0m\u001b[0;34m(\u001b[0m\u001b[0mFigure\u001b[0m\u001b[0;34m,\u001b[0m \u001b[0;32mlambda\u001b[0m \u001b[0mfig\u001b[0m\u001b[0;34m:\u001b[0m \u001b[0mprint_figure\u001b[0m\u001b[0;34m(\u001b[0m\u001b[0mfig\u001b[0m\u001b[0;34m,\u001b[0m \u001b[0;34m'png'\u001b[0m\u001b[0;34m,\u001b[0m \u001b[0;34m**\u001b[0m\u001b[0mkwargs\u001b[0m\u001b[0;34m)\u001b[0m\u001b[0;34m)\u001b[0m\u001b[0;34m\u001b[0m\u001b[0;34m\u001b[0m\u001b[0m\n\u001b[0m\u001b[1;32m    242\u001b[0m     \u001b[0;32mif\u001b[0m \u001b[0;34m'retina'\u001b[0m \u001b[0;32min\u001b[0m \u001b[0mformats\u001b[0m \u001b[0;32mor\u001b[0m \u001b[0;34m'png2x'\u001b[0m \u001b[0;32min\u001b[0m \u001b[0mformats\u001b[0m\u001b[0;34m:\u001b[0m\u001b[0;34m\u001b[0m\u001b[0;34m\u001b[0m\u001b[0m\n\u001b[1;32m    243\u001b[0m         \u001b[0mpng_formatter\u001b[0m\u001b[0;34m.\u001b[0m\u001b[0mfor_type\u001b[0m\u001b[0;34m(\u001b[0m\u001b[0mFigure\u001b[0m\u001b[0;34m,\u001b[0m \u001b[0;32mlambda\u001b[0m \u001b[0mfig\u001b[0m\u001b[0;34m:\u001b[0m \u001b[0mretina_figure\u001b[0m\u001b[0;34m(\u001b[0m\u001b[0mfig\u001b[0m\u001b[0;34m,\u001b[0m \u001b[0;34m**\u001b[0m\u001b[0mkwargs\u001b[0m\u001b[0;34m)\u001b[0m\u001b[0;34m)\u001b[0m\u001b[0;34m\u001b[0m\u001b[0;34m\u001b[0m\u001b[0m\n",
            "\u001b[0;32m/usr/local/lib/python3.7/dist-packages/IPython/core/pylabtools.py\u001b[0m in \u001b[0;36mprint_figure\u001b[0;34m(fig, fmt, bbox_inches, **kwargs)\u001b[0m\n\u001b[1;32m    123\u001b[0m \u001b[0;34m\u001b[0m\u001b[0m\n\u001b[1;32m    124\u001b[0m     \u001b[0mbytes_io\u001b[0m \u001b[0;34m=\u001b[0m \u001b[0mBytesIO\u001b[0m\u001b[0;34m(\u001b[0m\u001b[0;34m)\u001b[0m\u001b[0;34m\u001b[0m\u001b[0;34m\u001b[0m\u001b[0m\n\u001b[0;32m--> 125\u001b[0;31m     \u001b[0mfig\u001b[0m\u001b[0;34m.\u001b[0m\u001b[0mcanvas\u001b[0m\u001b[0;34m.\u001b[0m\u001b[0mprint_figure\u001b[0m\u001b[0;34m(\u001b[0m\u001b[0mbytes_io\u001b[0m\u001b[0;34m,\u001b[0m \u001b[0;34m**\u001b[0m\u001b[0mkw\u001b[0m\u001b[0;34m)\u001b[0m\u001b[0;34m\u001b[0m\u001b[0;34m\u001b[0m\u001b[0m\n\u001b[0m\u001b[1;32m    126\u001b[0m     \u001b[0mdata\u001b[0m \u001b[0;34m=\u001b[0m \u001b[0mbytes_io\u001b[0m\u001b[0;34m.\u001b[0m\u001b[0mgetvalue\u001b[0m\u001b[0;34m(\u001b[0m\u001b[0;34m)\u001b[0m\u001b[0;34m\u001b[0m\u001b[0;34m\u001b[0m\u001b[0m\n\u001b[1;32m    127\u001b[0m     \u001b[0;32mif\u001b[0m \u001b[0mfmt\u001b[0m \u001b[0;34m==\u001b[0m \u001b[0;34m'svg'\u001b[0m\u001b[0;34m:\u001b[0m\u001b[0;34m\u001b[0m\u001b[0;34m\u001b[0m\u001b[0m\n",
            "\u001b[0;32m/usr/local/lib/python3.7/dist-packages/matplotlib/backend_bases.py\u001b[0m in \u001b[0;36mprint_figure\u001b[0;34m(self, filename, dpi, facecolor, edgecolor, orientation, format, bbox_inches, **kwargs)\u001b[0m\n\u001b[1;32m   2106\u001b[0m                         \u001b[0mpad\u001b[0m \u001b[0;34m=\u001b[0m \u001b[0mrcParams\u001b[0m\u001b[0;34m[\u001b[0m\u001b[0;34m'savefig.pad_inches'\u001b[0m\u001b[0;34m]\u001b[0m\u001b[0;34m\u001b[0m\u001b[0;34m\u001b[0m\u001b[0m\n\u001b[1;32m   2107\u001b[0m \u001b[0;34m\u001b[0m\u001b[0m\n\u001b[0;32m-> 2108\u001b[0;31m                     \u001b[0mbbox_inches\u001b[0m \u001b[0;34m=\u001b[0m \u001b[0mbbox_inches\u001b[0m\u001b[0;34m.\u001b[0m\u001b[0mpadded\u001b[0m\u001b[0;34m(\u001b[0m\u001b[0mpad\u001b[0m\u001b[0;34m)\u001b[0m\u001b[0;34m\u001b[0m\u001b[0;34m\u001b[0m\u001b[0m\n\u001b[0m\u001b[1;32m   2109\u001b[0m \u001b[0;34m\u001b[0m\u001b[0m\n\u001b[1;32m   2110\u001b[0m                 \u001b[0;31m# call adjust_bbox to save only the given area\u001b[0m\u001b[0;34m\u001b[0m\u001b[0;34m\u001b[0m\u001b[0;34m\u001b[0m\u001b[0m\n",
            "\u001b[0;32m/usr/local/lib/python3.7/dist-packages/matplotlib/transforms.py\u001b[0m in \u001b[0;36mpadded\u001b[0;34m(self, p)\u001b[0m\n\u001b[1;32m    664\u001b[0m     \u001b[0;32mdef\u001b[0m \u001b[0mpadded\u001b[0m\u001b[0;34m(\u001b[0m\u001b[0mself\u001b[0m\u001b[0;34m,\u001b[0m \u001b[0mp\u001b[0m\u001b[0;34m)\u001b[0m\u001b[0;34m:\u001b[0m\u001b[0;34m\u001b[0m\u001b[0;34m\u001b[0m\u001b[0m\n\u001b[1;32m    665\u001b[0m         \u001b[0;34m\"\"\"Construct a `Bbox` by padding this one on all four sides by *p*.\"\"\"\u001b[0m\u001b[0;34m\u001b[0m\u001b[0;34m\u001b[0m\u001b[0m\n\u001b[0;32m--> 666\u001b[0;31m         \u001b[0mpoints\u001b[0m \u001b[0;34m=\u001b[0m \u001b[0mself\u001b[0m\u001b[0;34m.\u001b[0m\u001b[0mget_points\u001b[0m\u001b[0;34m(\u001b[0m\u001b[0;34m)\u001b[0m\u001b[0;34m\u001b[0m\u001b[0;34m\u001b[0m\u001b[0m\n\u001b[0m\u001b[1;32m    667\u001b[0m         \u001b[0;32mreturn\u001b[0m \u001b[0mBbox\u001b[0m\u001b[0;34m(\u001b[0m\u001b[0mpoints\u001b[0m \u001b[0;34m+\u001b[0m \u001b[0;34m[\u001b[0m\u001b[0;34m[\u001b[0m\u001b[0;34m-\u001b[0m\u001b[0mp\u001b[0m\u001b[0;34m,\u001b[0m \u001b[0;34m-\u001b[0m\u001b[0mp\u001b[0m\u001b[0;34m]\u001b[0m\u001b[0;34m,\u001b[0m \u001b[0;34m[\u001b[0m\u001b[0mp\u001b[0m\u001b[0;34m,\u001b[0m \u001b[0mp\u001b[0m\u001b[0;34m]\u001b[0m\u001b[0;34m]\u001b[0m\u001b[0;34m)\u001b[0m\u001b[0;34m\u001b[0m\u001b[0;34m\u001b[0m\u001b[0m\n\u001b[1;32m    668\u001b[0m \u001b[0;34m\u001b[0m\u001b[0m\n",
            "\u001b[0;32m/usr/local/lib/python3.7/dist-packages/matplotlib/transforms.py\u001b[0m in \u001b[0;36mget_points\u001b[0;34m(self)\u001b[0m\n\u001b[1;32m   1021\u001b[0m             \u001b[0;31m# same.\u001b[0m\u001b[0;34m\u001b[0m\u001b[0;34m\u001b[0m\u001b[0;34m\u001b[0m\u001b[0m\n\u001b[1;32m   1022\u001b[0m             points = self._transform.transform(\n\u001b[0;32m-> 1023\u001b[0;31m                 [[p[0, 0], p[0, 1]],\n\u001b[0m\u001b[1;32m   1024\u001b[0m                  \u001b[0;34m[\u001b[0m\u001b[0mp\u001b[0m\u001b[0;34m[\u001b[0m\u001b[0;36m1\u001b[0m\u001b[0;34m,\u001b[0m \u001b[0;36m0\u001b[0m\u001b[0;34m]\u001b[0m\u001b[0;34m,\u001b[0m \u001b[0mp\u001b[0m\u001b[0;34m[\u001b[0m\u001b[0;36m0\u001b[0m\u001b[0;34m,\u001b[0m \u001b[0;36m1\u001b[0m\u001b[0;34m]\u001b[0m\u001b[0;34m]\u001b[0m\u001b[0;34m,\u001b[0m\u001b[0;34m\u001b[0m\u001b[0;34m\u001b[0m\u001b[0m\n\u001b[1;32m   1025\u001b[0m                  \u001b[0;34m[\u001b[0m\u001b[0mp\u001b[0m\u001b[0;34m[\u001b[0m\u001b[0;36m0\u001b[0m\u001b[0;34m,\u001b[0m \u001b[0;36m0\u001b[0m\u001b[0;34m]\u001b[0m\u001b[0;34m,\u001b[0m \u001b[0mp\u001b[0m\u001b[0;34m[\u001b[0m\u001b[0;36m1\u001b[0m\u001b[0;34m,\u001b[0m \u001b[0;36m1\u001b[0m\u001b[0;34m]\u001b[0m\u001b[0;34m]\u001b[0m\u001b[0;34m,\u001b[0m\u001b[0;34m\u001b[0m\u001b[0;34m\u001b[0m\u001b[0m\n",
            "\u001b[0;31mKeyboardInterrupt\u001b[0m: "
          ]
        },
        {
          "output_type": "display_data",
          "data": {
            "image/png": "[encoded data removed]",
            "text/plain": [
              "<Figure size 432x288 with 1 Axes>"
            ]
          },
          "metadata": {
            "tags": [],
            "needs_background": "light"
          }
        }
      ]
    },
    {
      "cell_type": "code",
      "metadata": {
        "id": "Embz3042OMH-"
      },
      "source": [
        "observation = env.reset()\r\n",
        "for t in range(199):\r\n",
        "  plt.gca().clear\r\n",
        "\r\n",
        "  actions = policy(observation, t)\r\n",
        "  observation, reward, done, info = env.step(actions)\r\n",
        "  print(t, observation, reward, done)\r\n",
        "\r\n",
        "  if done:\r\n",
        "    break"
      ],
      "execution_count": null,
      "outputs": []
    },
    {
      "cell_type": "code",
      "metadata": {
        "id": "rEkU2bapOMKS"
      },
      "source": [
        ""
      ],
      "execution_count": null,
      "outputs": []
    },
    {
      "cell_type": "code",
      "metadata": {
        "id": "nI6jjRvsOMM-"
      },
      "source": [
        ""
      ],
      "execution_count": null,
      "outputs": []
    },
    {
      "cell_type": "code",
      "metadata": {
        "id": "8gWrNfN-OMO6"
      },
      "source": [
        ""
      ],
      "execution_count": null,
      "outputs": []
    }
  ]
}